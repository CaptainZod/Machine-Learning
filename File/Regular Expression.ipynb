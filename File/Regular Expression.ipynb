{
 "cells": [
  {
   "cell_type": "code",
   "execution_count": 16,
   "metadata": {},
   "outputs": [],
   "source": [
    "import re"
   ]
  },
  {
   "cell_type": "code",
   "execution_count": null,
   "metadata": {},
   "outputs": [],
   "source": [
    "#match\n",
    "#search Y or N\n",
    "#findall (shows 1st occurance)\n",
    "\n",
    "#Types of RE\n",
    "#   slash a - start\n",
    "# slash b - end\n",
    "# \\B \n",
    "# \\D \n",
    "# \\d - digit\n",
    "# \\w - alphanumeric\n",
    "# \\W - non-alpha\n",
    "# \\s - whitespaces\n",
    "# \\Z\n",
    "# \\n\n"
   ]
  },
  {
   "cell_type": "code",
   "execution_count": 3,
   "metadata": {},
   "outputs": [
    {
     "name": "stdout",
     "output_type": "stream",
     "text": [
      "<re.Match object; span=(8, 13), match='geeks'>\n"
     ]
    }
   ],
   "source": [
    "print(re.search(r'\\Bgeeks\\b' ,'Beeksforgeeks' ))"
   ]
  },
  {
   "cell_type": "code",
   "execution_count": 4,
   "metadata": {},
   "outputs": [
    {
     "name": "stdout",
     "output_type": "stream",
     "text": [
      "<re.Match object; span=(8, 13), match='geeks'>\n"
     ]
    }
   ],
   "source": [
    "print(re.search(r'geeks\\b' ,'Beeksforgeeks' ))"
   ]
  },
  {
   "cell_type": "code",
   "execution_count": 17,
   "metadata": {},
   "outputs": [
    {
     "name": "stdout",
     "output_type": "stream",
     "text": [
      "gmail.com\n"
     ]
    },
    {
     "name": "stderr",
     "output_type": "stream",
     "text": [
      "<>:2: SyntaxWarning: invalid escape sequence '\\w'\n",
      "<>:2: SyntaxWarning: invalid escape sequence '\\w'\n",
      "C:\\Users\\Prithvi Raj K\\AppData\\Local\\Temp\\ipykernel_30272\\3339021494.py:2: SyntaxWarning: invalid escape sequence '\\w'\n",
      "  m = re.search( '[\\w.]+@([\\w.]+)', em)\n"
     ]
    }
   ],
   "source": [
    "em = \"prithvi.r1997@gmail.com\"\n",
    "m = re.search( '[\\w.]+@([\\w.]+)', em)\n",
    "if m:\n",
    "    print(m.group(1))\n"
   ]
  },
  {
   "cell_type": "code",
   "execution_count": 18,
   "metadata": {},
   "outputs": [
    {
     "name": "stdout",
     "output_type": "stream",
     "text": [
      "hello\n"
     ]
    }
   ],
   "source": [
    "text = \"hello\"\n",
    "pattern = r'h.llo'\n",
    "match = re.search(pattern, text)\n",
    "print(match.group())"
   ]
  },
  {
   "cell_type": "code",
   "execution_count": 19,
   "metadata": {},
   "outputs": [
    {
     "name": "stdout",
     "output_type": "stream",
     "text": [
      "llo\n"
     ]
    }
   ],
   "source": [
    "text = \"hello\"\n",
    "pattern = r'h*llo'\n",
    "match = re.search(pattern, text)\n",
    "print(match.group())"
   ]
  },
  {
   "cell_type": "code",
   "execution_count": 21,
   "metadata": {},
   "outputs": [
    {
     "name": "stdout",
     "output_type": "stream",
     "text": [
      "hello\n"
     ]
    }
   ],
   "source": [
    "text = \"hello\"\n",
    "pattern = r'hel+o'\n",
    "match = re.search(pattern, text)\n",
    "print(match.group())"
   ]
  },
  {
   "cell_type": "code",
   "execution_count": 33,
   "metadata": {},
   "outputs": [
    {
     "name": "stdout",
     "output_type": "stream",
     "text": [
      "o\n"
     ]
    }
   ],
   "source": [
    "text = \"hellohallo\"\n",
    "pattern = r'o$'\n",
    "match = re.search(pattern, text)\n",
    "print(match.group())"
   ]
  },
  {
   "cell_type": "code",
   "execution_count": 35,
   "metadata": {},
   "outputs": [
    {
     "ename": "AttributeError",
     "evalue": "'NoneType' object has no attribute 'group'",
     "output_type": "error",
     "traceback": [
      "\u001b[1;31m---------------------------------------------------------------------------\u001b[0m",
      "\u001b[1;31mAttributeError\u001b[0m                            Traceback (most recent call last)",
      "Cell \u001b[1;32mIn[35], line 4\u001b[0m\n\u001b[0;32m      2\u001b[0m pattern \u001b[38;5;241m=\u001b[39m \u001b[38;5;124mr\u001b[39m\u001b[38;5;124m'\u001b[39m\u001b[38;5;124m^hallo\u001b[39m\u001b[38;5;124m'\u001b[39m\n\u001b[0;32m      3\u001b[0m match \u001b[38;5;241m=\u001b[39m re\u001b[38;5;241m.\u001b[39msearch(pattern, text)\n\u001b[1;32m----> 4\u001b[0m \u001b[38;5;28mprint\u001b[39m(match\u001b[38;5;241m.\u001b[39mgroup())\n",
      "\u001b[1;31mAttributeError\u001b[0m: 'NoneType' object has no attribute 'group'"
     ]
    }
   ],
   "source": [
    "text = \"hellohallo\"\n",
    "pattern = r'^hallo'\n",
    "match = re.search(pattern, text)\n",
    "print(match.group())"
   ]
  },
  {
   "cell_type": "code",
   "execution_count": 40,
   "metadata": {},
   "outputs": [
    {
     "name": "stdout",
     "output_type": "stream",
     "text": [
      "$hallo\n"
     ]
    }
   ],
   "source": [
    "text = \"hello$hallo\"\n",
    "pattern = r'\\$hallo'\n",
    "match = re.search(pattern, text)\n",
    "print(match.group())"
   ]
  },
  {
   "cell_type": "code",
   "execution_count": 41,
   "metadata": {},
   "outputs": [],
   "source": [
    "# try ?"
   ]
  },
  {
   "cell_type": "code",
   "execution_count": 42,
   "metadata": {},
   "outputs": [
    {
     "name": "stdout",
     "output_type": "stream",
     "text": [
      "hall\n"
     ]
    }
   ],
   "source": [
    "text = \"hello$hallllo\"\n",
    "pattern = r'hal{2}'\n",
    "match = re.search(pattern, text)\n",
    "print(match.group())"
   ]
  },
  {
   "cell_type": "code",
   "execution_count": 43,
   "metadata": {},
   "outputs": [
    {
     "name": "stdout",
     "output_type": "stream",
     "text": [
      "hallll\n"
     ]
    }
   ],
   "source": [
    "text = \"hello$hallllllllllo\"\n",
    "pattern = r'hal{2,4}'\n",
    "match = re.search(pattern, text)\n",
    "print(match.group())"
   ]
  },
  {
   "cell_type": "code",
   "execution_count": 45,
   "metadata": {},
   "outputs": [
    {
     "name": "stdout",
     "output_type": "stream",
     "text": [
      "color\n"
     ]
    }
   ],
   "source": [
    "text = \"colour color\"\n",
    "pattern = 'colo?r'\n",
    "match = re.search(pattern, text)\n",
    "print(match.group())"
   ]
  },
  {
   "cell_type": "code",
   "execution_count": 1,
   "metadata": {},
   "outputs": [],
   "source": [
    "#escape sequence\n",
    "#metacharacters\n",
    "#Character classes\n",
    "#quantifiers\n",
    "#anchors\n",
    "#literal characters"
   ]
  },
  {
   "cell_type": "code",
   "execution_count": 18,
   "metadata": {},
   "outputs": [
    {
     "name": "stdout",
     "output_type": "stream",
     "text": [
      "['e', 'b', 'o', 'n', 'fo', 'j', 'm', 'm']\n"
     ]
    }
   ],
   "source": [
    "import re\n",
    "import warnings\n",
    "warnings.filterwarnings('ignore')\n",
    "word = \"Aye, brown fox jumpy rumpy\"\n",
    "p = re.compile('[a-o]+')\n",
    "print(p.findall(word))\n"
   ]
  },
  {
   "cell_type": "code",
   "execution_count": 20,
   "metadata": {},
   "outputs": [
    {
     "name": "stdout",
     "output_type": "stream",
     "text": [
      "['i', 'want', 'to', 'do', '11', 'A', 'M', 'on', '4th', 'July', '2002', 'or', '23', '2', '23']\n"
     ]
    }
   ],
   "source": [
    "w1 = \"i want to do 11 A.M.. on 4th July 2002 or 23/2/23\"\n",
    "p = re.compile('\\d+')\n",
    "p1 = re.compile('\\w+')\n",
    "p2 = re.compile('\\s')\n",
    "print(p1.findall(w1))"
   ]
  },
  {
   "cell_type": "code",
   "execution_count": 22,
   "metadata": {},
   "outputs": [
    {
     "name": "stdout",
     "output_type": "stream",
     "text": [
      "[]\n"
     ]
    }
   ],
   "source": [
    "email1 = r'[\\w.-]+@[\\w.-]+'\n",
    "test = \" c.com , eerasdas.com\"\n",
    "matches = re.findall(email1,test)\n",
    "print(matches)"
   ]
  },
  {
   "cell_type": "code",
   "execution_count": 23,
   "metadata": {},
   "outputs": [
    {
     "name": "stdout",
     "output_type": "stream",
     "text": [
      "['the', 'rain', 'in', 'j']\n"
     ]
    }
   ],
   "source": [
    "txt = \"the rain in j\"\n",
    "x = re.split(r'\\s',txt)\n",
    "print(x)"
   ]
  },
  {
   "cell_type": "code",
   "execution_count": 26,
   "metadata": {},
   "outputs": [
    {
     "name": "stdout",
     "output_type": "stream",
     "text": [
      "the QUEEEN is in the sky\n"
     ]
    }
   ],
   "source": [
    "txt = \"the king is in the sky\"\n",
    "pattern = r'\\bking'\n",
    "replace = 'QUEEEN'\n",
    "x = re.sub(pattern=pattern, repl=replace,string=txt)\n",
    "print(x) "
   ]
  },
  {
   "cell_type": "code",
   "execution_count": 27,
   "metadata": {},
   "outputs": [
    {
     "name": "stdout",
     "output_type": "stream",
     "text": [
      "the__king__is in the sky\n"
     ]
    }
   ],
   "source": [
    "txt = \"the king is in the sky\"\n",
    "pattern = r'\\s'\n",
    "replace = '__'\n",
    "x = re.sub(pattern=pattern, repl=replace,string=txt,count=2)\n",
    "print(x) "
   ]
  },
  {
   "cell_type": "code",
   "execution_count": 28,
   "metadata": {},
   "outputs": [
    {
     "name": "stdout",
     "output_type": "stream",
     "text": [
      "('the__king__is in the sky', 2)\n"
     ]
    }
   ],
   "source": [
    "txt = \"the king is in the sky\"\n",
    "pattern = r'\\s'\n",
    "replace = '__'\n",
    "x = re.subn(pattern=pattern, repl=replace,string=txt,count=2)\n",
    "print(x) "
   ]
  },
  {
   "cell_type": "code",
   "execution_count": 33,
   "metadata": {},
   "outputs": [
    {
     "name": "stdout",
     "output_type": "stream",
     "text": [
      "price 100\n"
     ]
    }
   ],
   "source": [
    "pattern = re.escape(\"price 100\")\n",
    "text = \" It coests price 100 or price Rs.100\"\n",
    "match = re.search(pattern,text)\n",
    "\n",
    "\n",
    "if match:\n",
    "    print(match.group())\n",
    "else:\n",
    "    print(\"NEIN\")"
   ]
  },
  {
   "cell_type": "code",
   "execution_count": 44,
   "metadata": {},
   "outputs": [
    {
     "name": "stdout",
     "output_type": "stream",
     "text": [
      "In FY2021, around Q1 generated $4.85 billion \n",
      "In FY2020, around Q2 generated $3 billion \n"
     ]
    }
   ],
   "source": [
    "text = '''    nndoiasd ajsidjai iojasijda FY2021 Q1 $4.85 billion, sadasjdoijaio jadsiasjdoija FUDDHUJSDe20120312 . FR@(#(@#((84923)))    )\n",
    ". FY2020 Q2 $3 billion, asijdiassjdio\n",
    "\n",
    "'''\n",
    "\n",
    "pattern1 = \"FY\\d{4} Q[1-4]\"\n",
    "pattern2 = \"\\$[\\d.]+ \\w+\"\n",
    "\n",
    "year = re.findall(pattern1,text, flags=re.IGNORECASE)\n",
    "quarter = re.findall(pattern2,text, flags=re.IGNORECASE)\n",
    "for i,j in zip(year,quarter):\n",
    "    print(f\"In {i[0:6]}, around {i[7:]} generated {j} \")\n"
   ]
  },
  {
   "cell_type": "code",
   "execution_count": null,
   "metadata": {},
   "outputs": [],
   "source": []
  }
 ],
 "metadata": {
  "kernelspec": {
   "display_name": "base",
   "language": "python",
   "name": "python3"
  },
  "language_info": {
   "codemirror_mode": {
    "name": "ipython",
    "version": 3
   },
   "file_extension": ".py",
   "mimetype": "text/x-python",
   "name": "python",
   "nbconvert_exporter": "python",
   "pygments_lexer": "ipython3",
   "version": "3.12.7"
  }
 },
 "nbformat": 4,
 "nbformat_minor": 2
}
