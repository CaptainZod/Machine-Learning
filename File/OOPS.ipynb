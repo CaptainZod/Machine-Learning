{
 "cells": [
  {
   "cell_type": "code",
   "execution_count": null,
   "metadata": {},
   "outputs": [
    {
     "ename": "",
     "evalue": "",
     "output_type": "error",
     "traceback": [
      "\u001b[1;31mCannot execute code, session has been disposed. Please try restarting the Kernel."
     ]
    },
    {
     "ename": "",
     "evalue": "",
     "output_type": "error",
     "traceback": [
      "\u001b[1;31mCannot execute code, session has been disposed. Please try restarting the Kernel. \n",
      "\u001b[1;31mView Jupyter <a href='command:jupyter.viewOutput'>log</a> for further details."
     ]
    }
   ],
   "source": [
    "class Node():\n",
    "    def __init__(self,data):\n",
    "        self.data = data\n",
    "        self.next = None\n",
    "\n",
    "class LinkedList( ):\n",
    "    def __init__(self ):\n",
    "        self.head = None\n",
    "\n",
    "    def insert_begin(self, new_data):\n",
    "        new_node = Node(new_data)\n",
    "        new_node.next = self.head\n",
    "        self.head = new_node\n",
    "\n",
    "    def delete_begin(self):\n",
    "        if self.head is None:\n",
    "            return \"E Missing Value\"\n",
    "        self.head = self.head.next\n",
    "\n",
    "    def printlist(self):\n",
    "        temp = self.head\n",
    "        while temp:\n",
    "            print(temp.data, end = \" \")\n",
    "            temp.data = temp.next\n",
    "        print()\n",
    "    \n",
    "    def insert_end(self,new_data):\n",
    "        new_node = Node(new_data)\n",
    "        if self.head is None:\n",
    "            self.head = new_node\n",
    "            return\n",
    "        temp = self.head\n",
    "        while temp.next:\n",
    "            temp   = temp.next\n",
    "        temp.next = new_node\n",
    "\n",
    "    def delete_end(self):\n",
    "        if self.head is None:\n",
    "            return \" e  \"\n",
    "        if self.head.next is None:\n",
    "            self.head = None\n",
    "            return \"\"\n",
    "        temp = self.head\n",
    "        while temp.next.next:\n",
    "            temp   = temp.next\n",
    "        temp.next = None\n",
    "\n",
    "    \n",
    "\n",
    "\n",
    "if __name__ == '__main__':\n",
    "    # Create a new LinkedList instance\n",
    "    llist = LinkedList()\n",
    "\n",
    "    # Insert each letter at the beginning using the method we created\n",
    "    llist.insert_begin('fox') \n",
    "    llist.insert_begin('brown') \n",
    "    llist.insert_begin('quick')  \n",
    "    llist.insert_begin('the')  \n",
    "\n",
    "    # Now 'the' is the head of the list, followed by 'quick', then 'brown' and 'fox'\n",
    "    llist.insert_end('jumps')\n",
    "\n",
    "    # Print the list\n",
    "    llist.printlist()\n",
    "\n",
    "\n",
    "    llist.delete_begin()\n",
    "\n",
    "    llist.printlist()\n",
    "    llist.delete_end()\n",
    "    llist.printlist()\n",
    "\n",
    "\n",
    "\n",
    "\n",
    "    \n",
    "    "
   ]
  },
  {
   "cell_type": "code",
   "execution_count": null,
   "metadata": {},
   "outputs": [
    {
     "name": "stdout",
     "output_type": "stream",
     "text": [
      "Account Holder Name : Mahes\n",
      "Balance in The Account : 1300\n"
     ]
    }
   ],
   "source": [
    "class BankAccount:\n",
    "    def __init__(self, balance, Name):\n",
    "        self.__balance = balance  # Private attribute\n",
    "        self.__Name = Name\n",
    "\n",
    "    def deposit(self, amount):\n",
    "        self.__balance += amount\n",
    "\n",
    "    def withdraw(self, amount):\n",
    "        if self.__balance >= amount:\n",
    "            self.__balance -= amount\n",
    "        else:\n",
    "            print(\"Insufficient funds\")\n",
    "\n",
    "    def get_balance(self):\n",
    "        return self.__balance\n",
    "    \n",
    "    def get_name(self):\n",
    "        return self.__Name\n",
    "\n",
    "\n",
    "account = BankAccount(1000, 'Mahes')\n",
    "account.deposit(500)\n",
    "account.withdraw(200)\n",
    "print(f\"Account Holder Name : {account.get_name()}\")\n",
    "print(f\"Balance in The Account : {account.get_balance()}\")"
   ]
  },
  {
   "cell_type": "code",
   "execution_count": null,
   "metadata": {},
   "outputs": [],
   "source": []
  }
 ],
 "metadata": {
  "kernelspec": {
   "display_name": "base",
   "language": "python",
   "name": "python3"
  },
  "language_info": {
   "codemirror_mode": {
    "name": "ipython",
    "version": 3
   },
   "file_extension": ".py",
   "mimetype": "text/x-python",
   "name": "python",
   "nbconvert_exporter": "python",
   "pygments_lexer": "ipython3",
   "version": "3.12.7"
  }
 },
 "nbformat": 4,
 "nbformat_minor": 2
}
