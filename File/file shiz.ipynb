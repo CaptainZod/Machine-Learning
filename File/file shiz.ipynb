{
 "cells": [
  {
   "cell_type": "code",
   "execution_count": 39,
   "metadata": {},
   "outputs": [],
   "source": [
    "from datetime import datetime\n",
    "import time \n",
    "now  = str(datetime.now())\n",
    "\n",
    "def create_file(path,content):\n",
    "    with open(path,'a') as file:\n",
    "        file.write(now + \" - \" + content + \"\\n\")\n",
    "        file.close()\n",
    "\n",
    "content = \"Error: 502\"\n",
    "create_file('testing.txt',content)"
   ]
  },
  {
   "cell_type": "code",
   "execution_count": null,
   "metadata": {},
   "outputs": [],
   "source": [
    " "
   ]
  },
  {
   "cell_type": "code",
   "execution_count": 40,
   "metadata": {},
   "outputs": [
    {
     "name": "stdout",
     "output_type": "stream",
     "text": [
      "\n",
      "\n",
      "2025-03-24 08:46:46.258763 - Error: 404\n",
      "2025-03-24 08:47:06.830197 - Error: 414\n",
      "2025-03-24 08:47:11.562613 - Error: 502\n",
      "2025-03-24 09:29:51.904821 - Error: 502\n",
      "2025-03-24 09:30:16.933665 - Error: 502\n",
      "2025-03-24 09:30:23.908148 - Error: 502\n",
      "\n"
     ]
    }
   ],
   "source": [
    "f = open(\"testing.txt\",'r')\n",
    "print(f.read())\n",
    "f.close()"
   ]
  },
  {
   "cell_type": "code",
   "execution_count": 18,
   "metadata": {},
   "outputs": [
    {
     "name": "stdout",
     "output_type": "stream",
     "text": [
      "\n",
      "\n",
      "2025-03-24 08:46:46.258763 - Error: 404\n",
      "2025-03-24 08:47:06.830197 - Error: 414\n",
      "2025-03-24 08:47:11.562613 - Error: 502\n",
      "\n"
     ]
    }
   ],
   "source": [
    "with open('testing.txt','r') as f:\n",
    "    content = f.read()\n",
    "    print(content)\n",
    "    f.close()\n"
   ]
  },
  {
   "cell_type": "code",
   "execution_count": 20,
   "metadata": {},
   "outputs": [
    {
     "data": {
      "text/plain": [
       "'c:\\\\Users\\\\Prithvi Raj K\\\\Desktop\\\\DS\\\\Krish\\\\ML'"
      ]
     },
     "execution_count": 20,
     "metadata": {},
     "output_type": "execute_result"
    }
   ],
   "source": [
    "import os\n",
    "os.getcwd()"
   ]
  },
  {
   "cell_type": "code",
   "execution_count": 21,
   "metadata": {},
   "outputs": [],
   "source": [
    "os.mkdir(\"File\")"
   ]
  },
  {
   "cell_type": "code",
   "execution_count": 23,
   "metadata": {},
   "outputs": [
    {
     "name": "stdout",
     "output_type": "stream",
     "text": [
      "\n",
      "\n",
      "\n",
      "\n",
      "2025-03-24 08:46:46.258763 - Error: 404\n",
      "\n",
      "2025-03-24 08:47:06.830197 - Error: 414\n",
      "\n",
      "2025-03-24 08:47:11.562613 - Error: 502\n",
      "\n"
     ]
    }
   ],
   "source": [
    "with open(\"testing.txt\", \"r\") as file:\n",
    "    for i in file:\n",
    "        print(i)\n",
    "    file.close()"
   ]
  },
  {
   "cell_type": "code",
   "execution_count": 24,
   "metadata": {},
   "outputs": [
    {
     "name": "stdout",
     "output_type": "stream",
     "text": [
      "\n",
      "\n"
     ]
    }
   ],
   "source": [
    "with open(\"testing.txt\", \"r\") as file:\n",
    "    for i in file.readline():\n",
    "        print(i)\n",
    "    file.close()"
   ]
  },
  {
   "cell_type": "code",
   "execution_count": 25,
   "metadata": {},
   "outputs": [
    {
     "name": "stdout",
     "output_type": "stream",
     "text": [
      "\n",
      "\n",
      "\n",
      "\n",
      "2025-03-24 08:46:46.258763 - Error: 404\n",
      "\n",
      "2025-03-24 08:47:06.830197 - Error: 414\n",
      "\n",
      "2025-03-24 08:47:11.562613 - Error: 502\n",
      "\n"
     ]
    }
   ],
   "source": [
    "with open(\"testing.txt\", \"r\") as file:\n",
    "    for i in file.readlines():\n",
    "        print(i)\n",
    "    file.close()"
   ]
  },
  {
   "cell_type": "code",
   "execution_count": 31,
   "metadata": {},
   "outputs": [
    {
     "name": "stdout",
     "output_type": "stream",
     "text": [
      "['2025-03-24 08:46:46.258763 - Error: 404', '2025-03-24 08:47:06.830197 - Error: 414', '2025-03-24 08:47:11.562613 - Error: 502']\n"
     ]
    }
   ],
   "source": [
    "with open(\"testing.txt\", \"r\") as file:\n",
    "    content = file.read().strip().split(\"\\n\")\n",
    "    print(content)\n",
    "    file.close()"
   ]
  },
  {
   "cell_type": "code",
   "execution_count": 36,
   "metadata": {},
   "outputs": [
    {
     "name": "stdout",
     "output_type": "stream",
     "text": [
      "['', '', '2025-03-24 08:46:46.258763 - Error: 404', '2025-03-24 08:47:06.830197 - Error: 414', '2025-03-24 08:47:11.562613 - Error: 502']\n"
     ]
    }
   ],
   "source": [
    "with open(\"testing.txt\", \"r\") as file:\n",
    "    content = file.read().splitlines()\n",
    "    print(content)\n",
    "    file.close()"
   ]
  },
  {
   "cell_type": "code",
   "execution_count": 35,
   "metadata": {},
   "outputs": [
    {
     "name": "stdout",
     "output_type": "stream",
     "text": [
      "['2025-03-24', '08:46:46.258763', '-', 'Error:', '404']\n",
      "['2025-03-24', '08:47:06.830197', '-', 'Error:', '414']\n",
      "['2025-03-24', '08:47:11.562613', '-', 'Error:', '502']\n"
     ]
    }
   ],
   "source": [
    "with open(\"testing.txt\", \"r\") as file:\n",
    "    content = file.read().strip().split(\"\\n\")\n",
    "    for i in content:\n",
    "        line = i.split()\n",
    "        print(line)\n",
    "    file.close()"
   ]
  },
  {
   "cell_type": "code",
   "execution_count": null,
   "metadata": {},
   "outputs": [],
   "source": [
    "path = \"example 2.txt\"\n",
    "now = str(datetime.now())\n",
    "\n",
    "if os.path.exists(path):\n",
    "    with open(path,'a') as file:\n",
    "        file.write(now + \"\\t\" + \"Appended\" + \"\\n\")\n",
    "        file.close()\n",
    "else:\n",
    "    with open(path,'w') as file:\n",
    "        file.write(now + \"\\t\" + \"New File Created\" + \"\\n\")\n",
    "        file.close()\n"
   ]
  },
  {
   "cell_type": "code",
   "execution_count": null,
   "metadata": {},
   "outputs": [],
   "source": [
    "# full path = os.path.join()\n",
    "\n"
   ]
  },
  {
   "cell_type": "markdown",
   "metadata": {},
   "source": [
    "# R+\n"
   ]
  },
  {
   "cell_type": "code",
   "execution_count": 43,
   "metadata": {},
   "outputs": [
    {
     "name": "stdout",
     "output_type": "stream",
     "text": [
      " Before - \n",
      "\n",
      "2025-03-24 08:46:46.258763 - Error: 404\n",
      "2025-03-24 08:47:06.830197 - Error: 414\n",
      "2025-03-24 08:47:11.562613 - Error: 502\n",
      "2025-03-24 09:29:51.904821 - Error: 502\n",
      "2025-03-24 09:30:16.933665 - Error: 502\n",
      "2025-03-24 09:30:23.908148 - Error: 502\n",
      "I am a bear\n",
      "After - \n",
      "\n",
      "2025-03-24 08:46:46.258763 - Error: 404\n",
      "2025-03-24 08:47:06.830197 - Error: 414\n",
      "2025-03-24 08:47:11.562613 - Error: 502\n",
      "2025-03-24 09:29:51.904821 - Error: 502\n",
      "2025-03-24 09:30:16.933665 - Error: 502\n",
      "2025-03-24 09:30:23.908148 - Error: 502\n",
      "I am a bearMan maketh Man\n"
     ]
    }
   ],
   "source": [
    "with open(\"testing.txt\",\"r+\") as file:\n",
    "    content = file.read()\n",
    "    print(f\" Before - {content}\")\n",
    "    file.write(\"Man maketh Man\")\n",
    "    file.seek(0)\n",
    "    content1 = file.read()\n",
    "    print(f\"After - {content1}\")"
   ]
  },
  {
   "cell_type": "markdown",
   "metadata": {},
   "source": [
    "model   - pickle\n",
    "template - html\n",
    "static - images\n",
    "myenv -\n",
    "gitprep\n",
    "requirement\n",
    "app.py\n",
    "train_model.py\n",
    "Readme.md\n",
    "Mit.licensce\n",
    "\n",
    "\n",
    "\n",
    "learn git, create vm, \n",
    "freeze function it should be dumped\n",
    "pip freeze _ requiremtn_ \n",
    "basic deployments\n",
    "aws, heroku, render, (azure - backend)... check dependenceies\n",
    "\n",
    "create dockcer - live url\n",
    "\n",
    "flask \n",
    "\n",
    "apache, mongodb "
   ]
  },
  {
   "cell_type": "code",
   "execution_count": null,
   "metadata": {},
   "outputs": [],
   "source": []
  }
 ],
 "metadata": {
  "kernelspec": {
   "display_name": "base",
   "language": "python",
   "name": "python3"
  },
  "language_info": {
   "codemirror_mode": {
    "name": "ipython",
    "version": 3
   },
   "file_extension": ".py",
   "mimetype": "text/x-python",
   "name": "python",
   "nbconvert_exporter": "python",
   "pygments_lexer": "ipython3",
   "version": "3.12.7"
  }
 },
 "nbformat": 4,
 "nbformat_minor": 2
}
