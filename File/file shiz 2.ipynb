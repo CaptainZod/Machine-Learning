{
 "cells": [
  {
   "cell_type": "code",
   "execution_count": 9,
   "metadata": {},
   "outputs": [
    {
     "name": "stdout",
     "output_type": "stream",
     "text": [
      "comment after  document 2025-03-25 08:26:43.270842\n",
      "  Todays document 2025-03-25 08:27:28.243341\n",
      "  Todays document 2025-03-25 08:27:32.285651\n",
      "  Todays document 2025-03-25 08:29:20.032142\n"
     ]
    }
   ],
   "source": [
    "# W+\n",
    "from datetime import datetime\n",
    "now = str( datetime.now() )  \n",
    "with open('example 3.txt','a+') as file:\n",
    "    file.write(\"\\n  Todays document \"+now)\n",
    "    file.seek(10)\n",
    "    content = file.read()\n",
    "    print(f\"comment after {content}\")\n",
    "    file.close"
   ]
  },
  {
   "cell_type": "code",
   "execution_count": 12,
   "metadata": {},
   "outputs": [],
   "source": [
    "import csv\n",
    "def create_csv( file_path, content):\n",
    "    with open(file_path, 'w') as file:\n",
    "        file.write(content)\n",
    "        file.close()\n",
    "\n",
    "create_csv(\"data.csv\", \"Name,Age,City\\nAlica,27,Bangalore\")\n",
    "\n"
   ]
  },
  {
   "cell_type": "code",
   "execution_count": null,
   "metadata": {},
   "outputs": [
    {
     "name": "stdout",
     "output_type": "stream",
     "text": [
      "['Name', 'Age', 'City']\n",
      "['Alica', '27', 'Bangalore']\n"
     ]
    }
   ],
   "source": [
    "with open(\"data.csv\",mode=\"r\", newline='') as f:\n",
    "    file = csv.reader(f)\n",
    "    for i in file:\n",
    "        print(i)"
   ]
  },
  {
   "cell_type": "code",
   "execution_count": 14,
   "metadata": {},
   "outputs": [],
   "source": [
    "with open(\"data.csv\",mode=\"w\") as f:\n",
    "    writer = csv.writer(f)\n",
    "    writer.writerow(['Name','Age','City'])\n",
    "    writer.writerow(['A','21','Bangalore'])\n",
    "    writer.writerow(['B','32','Mumbai'])\n",
    "    writer.writerow(['C','44','Kolkata'])\n",
    "\n",
    "    f.close()"
   ]
  },
  {
   "cell_type": "code",
   "execution_count": 17,
   "metadata": {},
   "outputs": [
    {
     "ename": "ValueError",
     "evalue": "I/O operation on closed file.",
     "output_type": "error",
     "traceback": [
      "\u001b[1;31m---------------------------------------------------------------------------\u001b[0m",
      "\u001b[1;31mValueError\u001b[0m                                Traceback (most recent call last)",
      "Cell \u001b[1;32mIn[17], line 3\u001b[0m\n\u001b[0;32m      1\u001b[0m \u001b[38;5;28;01mwith\u001b[39;00m \u001b[38;5;28mopen\u001b[39m(\u001b[38;5;124m\"\u001b[39m\u001b[38;5;124mdata.csv\u001b[39m\u001b[38;5;124m\"\u001b[39m,mode\u001b[38;5;241m=\u001b[39m\u001b[38;5;124m\"\u001b[39m\u001b[38;5;124mr+\u001b[39m\u001b[38;5;124m\"\u001b[39m) \u001b[38;5;28;01mas\u001b[39;00m f:\n\u001b[0;32m      2\u001b[0m     reader \u001b[38;5;241m=\u001b[39m csv\u001b[38;5;241m.\u001b[39mreader(f)\n\u001b[1;32m----> 3\u001b[0m     \u001b[38;5;28;01mfor\u001b[39;00m row \u001b[38;5;129;01min\u001b[39;00m file:\n\u001b[0;32m      4\u001b[0m         \u001b[38;5;28mprint\u001b[39m(row)\n\u001b[0;32m      5\u001b[0m     writer \u001b[38;5;241m=\u001b[39m csv\u001b[38;5;241m.\u001b[39mwriter(f)\n",
      "\u001b[1;31mValueError\u001b[0m: I/O operation on closed file."
     ]
    }
   ],
   "source": [
    "with open(\"data.csv\",mode=\"r+\") as f:\n",
    "    reader = csv.reader(f)\n",
    "    for row in file:\n",
    "        print(row)\n",
    "    writer = csv.writer(f)\n",
    "    writer.writer(['Name','Age','City'])\n",
    "    \n",
    "    file1 = csv.reader(f)\n",
    "    for i in file1:\n",
    "        print(i)\n",
    "\n",
    "    f.close()"
   ]
  },
  {
   "cell_type": "code",
   "execution_count": 32,
   "metadata": {},
   "outputs": [],
   "source": [
    "with open(\"data.csv\",mode=\"w+\", newline ='',encoding='utf-8') as f:\n",
    "    writer = csv.writer(f)\n",
    "    writer.writerow(['Name','Age','City'])\n",
    "    writer.writerow(['A','21','Bangalore'])\n",
    "    writer.writerows([['B','32','Mumbai'], ['C','44','Kolkata']])\n",
    "    \"\"\"\n",
    "    f.seek(0)\n",
    "    reader = csv.reader(file)\n",
    "    for row in reader:\n",
    "        print(row)\"\n",
    "        \"\"\"\n",
    "    f.close()"
   ]
  },
  {
   "cell_type": "code",
   "execution_count": 33,
   "metadata": {},
   "outputs": [
    {
     "name": "stdout",
     "output_type": "stream",
     "text": [
      "City\n",
      "Bangalore\n",
      "Mumbai\n",
      "Kolkata\n"
     ]
    }
   ],
   "source": [
    "with open(\"data.csv\",mode=\"r\", newline ='',encoding='utf-8') as f:\n",
    "    reader = csv.reader(f)\n",
    "    for i in reader:\n",
    "        print(i[2])"
   ]
  },
  {
   "cell_type": "code",
   "execution_count": 62,
   "metadata": {},
   "outputs": [],
   "source": [
    "import json\n",
    "def create_json(file_path, content):\n",
    "    \n",
    "    with open(file_path,'w') as file:\n",
    "        file.write(content)\n",
    "        file.close()\n",
    "create_json('data.json', ' {\"Name\": \"P\" , \"Age\": 25 , \"City\": \"Blore\" }' )"
   ]
  },
  {
   "cell_type": "code",
   "execution_count": 63,
   "metadata": {},
   "outputs": [
    {
     "name": "stdout",
     "output_type": "stream",
     "text": [
      "{'Name': 'P', 'Age': 25, 'City': 'Blore'}\n"
     ]
    }
   ],
   "source": [
    "with open(\"data.json\", mode = \"r\" ) as file:\n",
    "    reader = json.load(file)\n",
    "    print(reader)\n",
    "    file.close()"
   ]
  },
  {
   "cell_type": "code",
   "execution_count": 64,
   "metadata": {},
   "outputs": [],
   "source": [
    "data = [ {\"Name\": \"P\" , \"Age\": 25 , \"City\": \"Blore\" }, {\"Name\": {\"FN\":\"P\", \"LN\": \"R\"} , \"Age\": 25 , \"City\": \"Blore\" }   ]\n",
    "with open('data.json','w') as file:\n",
    "    writer = json.dump(data, file, indent=4)\n",
    "    file.close()"
   ]
  },
  {
   "cell_type": "code",
   "execution_count": 65,
   "metadata": {},
   "outputs": [
    {
     "name": "stdout",
     "output_type": "stream",
     "text": [
      "25\n",
      "25\n"
     ]
    }
   ],
   "source": [
    "with open('data.json',mode=\"r\") as file:\n",
    "    r = json.load(file)\n",
    "    for i in r:\n",
    "        print(i['Age'])\n",
    "    file.close()"
   ]
  },
  {
   "cell_type": "code",
   "execution_count": 66,
   "metadata": {},
   "outputs": [
    {
     "name": "stdout",
     "output_type": "stream",
     "text": [
      "[{'Name': 'P', 'Age': 25, 'City': 'Blore'}, {'Name': {'FN': 'P', 'LN': 'R'}, 'Age': 25, 'City': 'Blore'}]\n"
     ]
    }
   ],
   "source": [
    "with open('data.json', mode=\"r\") as file:\n",
    "    r = json.load(file)\n",
    "    print(r)\n",
    "    file.close()"
   ]
  },
  {
   "cell_type": "code",
   "execution_count": 69,
   "metadata": {},
   "outputs": [
    {
     "name": "stdout",
     "output_type": "stream",
     "text": [
      "[{'Name': 'Asas', 'Age': 55, 'City': 'Noida'}]\n"
     ]
    }
   ],
   "source": [
    "with open('data.json', mode=\"r+\") as file:\n",
    "    r = json.load(file)\n",
    "    print(r)\n",
    "\n",
    "    file.seek(0)\n",
    "    data1 = [{ 'Name':'A','Age':23 ,'City':'Mumbai' }]\n",
    "    write = json.dump(data1,file,indent=4)\n",
    "    file.close()\n",
    "\n",
    "\n",
    "\n",
    "\n"
   ]
  },
  {
   "cell_type": "code",
   "execution_count": 68,
   "metadata": {},
   "outputs": [
    {
     "name": "stdout",
     "output_type": "stream",
     "text": [
      "[{'Name': 'Asas', 'Age': 55, 'City': 'Noida'}]\n"
     ]
    }
   ],
   "source": [
    "with open('data.json', mode=\"w+\") as file:\n",
    "    data1 = [{ 'Name':'Asas','Age':55 ,'City':'Noida' }]\n",
    "    write = json.dump(data1,file  )\n",
    "    \n",
    "\n",
    "    file.seek(0)\n",
    "    r = json.load(file)\n",
    "    print(r)\n",
    "    \n",
    "    file.close()\n",
    "\n"
   ]
  },
  {
   "cell_type": "code",
   "execution_count": 9,
   "metadata": {},
   "outputs": [],
   "source": [
    "import os \n",
    "try:\n",
    "    if os.path.exists(\"data.csv\"):\n",
    "        os.remove('data.csv')\n",
    "\n",
    "    \n",
    "    \n",
    "except FileNotFoundError:\n",
    "    print(\"File DDD\") "
   ]
  },
  {
   "cell_type": "code",
   "execution_count": 10,
   "metadata": {},
   "outputs": [
    {
     "name": "stdout",
     "output_type": "stream",
     "text": [
      "File DDD\n"
     ]
    }
   ],
   "source": [
    "import os \n",
    "try:\n",
    "     \n",
    "    os.remove('data.csv')\n",
    "\n",
    "    \n",
    "    \n",
    "except FileNotFoundError:\n",
    "    print(\"File DDD\") "
   ]
  },
  {
   "cell_type": "code",
   "execution_count": null,
   "metadata": {},
   "outputs": [],
   "source": []
  }
 ],
 "metadata": {
  "kernelspec": {
   "display_name": "base",
   "language": "python",
   "name": "python3"
  },
  "language_info": {
   "codemirror_mode": {
    "name": "ipython",
    "version": 3
   },
   "file_extension": ".py",
   "mimetype": "text/x-python",
   "name": "python",
   "nbconvert_exporter": "python",
   "pygments_lexer": "ipython3",
   "version": "3.12.7"
  }
 },
 "nbformat": 4,
 "nbformat_minor": 2
}
